{
 "cells": [
  {
   "cell_type": "code",
   "execution_count": null,
   "metadata": {},
   "outputs": [],
   "source": [
    "%matplotlib inline\n",
    "import re\n",
    "import os\n",
    "import zipfile\n",
    "from zlib import crc32\n",
    "\n",
    "import pandas as pd\n",
    "import numpy as np\n",
    "import matplotlib.pyplot as plt\n",
    "from sklearn.model_selection import StratifiedShuffleSplit\n",
    "from sklearn.impute import SimpleImputer\n",
    "from sklearn.base import BaseEstimator, TransformerMixin\n",
    "from requests import get as req_get"
   ]
  },
  {
   "cell_type": "code",
   "execution_count": null,
   "metadata": {},
   "outputs": [],
   "source": [
    "# get dataset from statlib\n",
    "if not os.path.exists('data'):\n",
    "    os.mkdir('data')\n",
    "if not os.path.exists('data/cadata.txt') and not os.path.exists('data/housing.csv'):\n",
    "    if not os.path.exists('data/data.zip'):\n",
    "        load_data = req_get('http://lib.stat.cmu.edu/datasets/houses.zip')\n",
    "        with open('data/data.zip', 'wb') as f:\n",
    "            f.write(load_data.content)\n",
    "    zip_data = zipfile.ZipFile('data/data.zip', 'r')\n",
    "    zip_data.extractall('data/')\n",
    "    os.remove('data/data.zip')"
   ]
  },
  {
   "cell_type": "code",
   "execution_count": null,
   "metadata": {},
   "outputs": [],
   "source": [
    "# read origin text file then form a formal csv file, or read csv file preprocessed \n",
    "if os.path.exists('data/housing.csv'):\n",
    "    df = pd.read_csv('data/housing.csv')\n",
    "else:\n",
    "    with open('data/cadata.txt', 'r', encoding='Windows-1252') as fe:\n",
    "        fe.seek(1575)\n",
    "        data = fe.read()\n",
    "    data = data.splitlines()\n",
    "    for index, sub_data in enumerate(data):\n",
    "        data[index] = sub_data.strip()\n",
    "        data[index] = list(filter(lambda x: x != '', re.split('\\s|\\s\\s', data[index])))\n",
    "        data[index] = list(map(lambda x: float(x), data[index]))\n",
    "    df = pd.DataFrame(data, columns=['median house value', 'median income', 'housing median age', 'total rooms', 'total bedrooms', 'population', 'households', 'latitude', 'longitude'])\n",
    "    df.to_csv('data/housing.csv', index=False)\n",
    "    os.remove('data/cadata.txt')\n",
    "\n",
    "df.head()"
   ]
  },
  {
   "cell_type": "code",
   "execution_count": null,
   "metadata": {},
   "outputs": [],
   "source": [
    "# read dataframe info\n",
    "df.info()"
   ]
  },
  {
   "cell_type": "code",
   "execution_count": null,
   "metadata": {},
   "outputs": [],
   "source": [
    "df.describe()"
   ]
  },
  {
   "cell_type": "code",
   "execution_count": null,
   "metadata": {},
   "outputs": [],
   "source": [
    "df.hist(bins=50, figsize=(20, 15))\n",
    "plt.show()"
   ]
  },
  {
   "cell_type": "code",
   "execution_count": null,
   "metadata": {},
   "outputs": [],
   "source": [
    "# split dataset by trainset and testset\n",
    "# 'true' random sampling\n",
    "df[\"id\"] = df[\"longitude\"] * 1000 + df[\"latitude\"]\n",
    "\n",
    "np.random.seed(42)\n",
    "def test_set_check(identifier, test_ratio):\n",
    "    return crc32(np.int64(identifier)) & 0xffffffff < test_ratio * 2 ** 32 # crc-32 here used as hash func\n",
    "\n",
    "def split_train_test(dataset, test_ratio, id_column):\n",
    "    # shuffled_indices = np.random.permutation(len(dataset))\n",
    "    # test_set_size = int(len(dataset) * test_radio)\n",
    "    # test_indices = shuffled_indices[:test_set_size]\n",
    "    # train_indices = shuffled_indices[test_set_size:]\n",
    "    # return dataset.iloc[train_indices], dataset.iloc[test_indices]\n",
    "    ids = dataset[id_column]\n",
    "    in_test_set = ids.apply(lambda id_: test_set_check(id_, test_ratio))\n",
    "    return dataset[~in_test_set], dataset[in_test_set]\n",
    "\n",
    "train_set, test_set = split_train_test(df, 0.2, \"id\") # instead of train_test_split in scikit-learn\n",
    "# train_set, test_set = sklearn.model_selection.train_test_split(df, test_size=0.2, random_state=42)\n",
    "train_set"
   ]
  },
  {
   "cell_type": "code",
   "execution_count": null,
   "metadata": {},
   "outputs": [],
   "source": [
    "# stratified sampling\n",
    "df[\"income cat\"] = pd.cut(\n",
    "    df[\"median income\"],\n",
    "    bins=[0., 1.5, 3., 4.5, 6., np.inf],\n",
    "    labels=[1, 2, 3, 4, 5]\n",
    ")\n",
    "df[\"income cat\"].hist()"
   ]
  },
  {
   "cell_type": "code",
   "execution_count": null,
   "metadata": {},
   "outputs": [],
   "source": [
    "split = StratifiedShuffleSplit(n_splits=1, test_size=0.2, random_state=42)\n",
    "for train_index, test_index in split.split(df, df[\"income cat\"]):\n",
    "    strat_train_set = df.loc[train_index]\n",
    "    strat_test_set = df.loc[test_index]\n",
    "strat_test_set[\"income cat\"].value_counts() / len(strat_test_set)"
   ]
  },
  {
   "cell_type": "code",
   "execution_count": null,
   "metadata": {},
   "outputs": [],
   "source": [
    "# restore origin dataset\n",
    "for _set in (strat_train_set, strat_test_set):\n",
    "    _set.drop(\"income cat\", axis=1, inplace=True)"
   ]
  },
  {
   "cell_type": "code",
   "execution_count": null,
   "metadata": {},
   "outputs": [],
   "source": [
    "# copy strat train set then check the location of it\n",
    "housing = strat_train_set.copy()\n",
    "housing.plot(\n",
    "    kind=\"scatter\", x=\"longitude\", y=\"latitude\", alpha=0.4, c=\"median house value\", cmap=plt.get_cmap(\"jet\"), colorbar=True,\n",
    "    s=housing[\"population\"] / 100, label=\"population\", figsize=(10, 7)\n",
    ")\n",
    "plt.legend()"
   ]
  },
  {
   "cell_type": "code",
   "execution_count": null,
   "metadata": {},
   "outputs": [],
   "source": [
    "# measuring correlation\n",
    "corr_matrix = housing.drop(\"id\", axis=1).corr()\n",
    "corr_matrix"
   ]
  },
  {
   "cell_type": "code",
   "execution_count": null,
   "metadata": {},
   "outputs": [],
   "source": [
    "# print scatter to find the correlation of following attributes\n",
    "attributes = [ 'median house value', 'median income', 'total rooms', 'housing median age', ]\n",
    "pd.plotting.scatter_matrix(housing[attributes], figsize=(12, 8))"
   ]
  },
  {
   "cell_type": "code",
   "execution_count": null,
   "metadata": {},
   "outputs": [],
   "source": [
    "housing.plot(kind=\"scatter\", x=\"median income\", y=\"median house value\", alpha=0.1)"
   ]
  },
  {
   "cell_type": "code",
   "execution_count": null,
   "metadata": {},
   "outputs": [],
   "source": [
    "# add some combined attributes then find correlation between them and house value\n",
    "housing[\"rooms per household\"] = housing[\"total rooms\"] / housing[\"households\"]\n",
    "housing[\"bedrooms per room\"] = housing[\"total bedrooms\"] / housing[\"total rooms\"]\n",
    "housing[\"population per household\"] = housing[\"population\"] / housing[\"households\"]\n",
    "\n",
    "corr_matrix = housing.drop(\"id\", axis=1).corr()\n",
    "corr_matrix[\"median house value\"].sort_values(ascending=False)"
   ]
  },
  {
   "cell_type": "code",
   "execution_count": null,
   "metadata": {},
   "outputs": [],
   "source": [
    "# now we prepare the data for trainning\n",
    "# fill null with median value\n",
    "housing = strat_train_set.drop([\"median house value\", \"id\"], axis=1)\n",
    "housing_labels = strat_train_set[\"median house value\"].copy()\n",
    "imputer = SimpleImputer(strategy=\"median\")\n",
    "imputer.fit(housing)\n",
    "X = imputer.transform(housing)\n",
    "# above two statements can be instead of following\n",
    "# X = imputer.fit_transform(housing)\n",
    "housing"
   ]
  },
  {
   "cell_type": "code",
   "execution_count": null,
   "metadata": {},
   "outputs": [],
   "source": [
    "# custom translator\n",
    "rooms_ix, bedrooms_ix, population_ix, households_ix = 3, 4, 5, 6 # the index of above attribute on a sample\n",
    "\n",
    "class CombinedAttributeAdder(BaseEstimator, TransformerMixin):\n",
    "    \n",
    "    def __init__(self, add_bedrooms_per_room = True) -> None:\n",
    "        self.add_bedrooms_per_room = add_bedrooms_per_room\n",
    "\n",
    "    def fit(self, X, y=None):\n",
    "        return self\n",
    "    \n",
    "    def transform(self, X):\n",
    "        rooms_per_household = X[:, rooms_ix] / X[:, households_ix]\n",
    "        population_per_household = X[:, population_ix] / X[:, households_ix]\n",
    "        if self.add_bedrooms_per_room:\n",
    "            bedrooms_per_room = X[:, bedrooms_ix] / X[:, rooms_ix]\n",
    "            return np.c_[X, rooms_per_household, population_per_household, bedrooms_per_room]\n",
    "        else:\n",
    "            return np.c_[X, rooms_per_household, population_per_household]\n",
    "\n",
    "# add extra attributes into train set\n",
    "attr_adder = CombinedAttributeAdder(add_bedrooms_per_room=False)\n",
    "housing_extra_attributes = attr_adder.transform(housing.values)\n",
    "housing_extra_attributes"
   ]
  },
  {
   "cell_type": "code",
   "execution_count": null,
   "metadata": {},
   "outputs": [],
   "source": []
  }
 ],
 "metadata": {
  "kernelspec": {
   "display_name": "lainpy39-ml",
   "language": "python",
   "name": "python3"
  },
  "language_info": {
   "codemirror_mode": {
    "name": "ipython",
    "version": 3
   },
   "file_extension": ".py",
   "mimetype": "text/x-python",
   "name": "python",
   "nbconvert_exporter": "python",
   "pygments_lexer": "ipython3",
   "version": "3.9.16"
  },
  "orig_nbformat": 4
 },
 "nbformat": 4,
 "nbformat_minor": 2
}
